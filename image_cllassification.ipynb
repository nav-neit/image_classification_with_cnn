{
 "cells": [
  {
   "cell_type": "code",
   "execution_count": 14,
   "metadata": {},
   "outputs": [],
   "source": [
    "import tensorflow as tf\n",
    "from keras.preprocessing.image import ImageDataGenerator"
   ]
  },
  {
   "cell_type": "markdown",
   "metadata": {},
   "source": [
    "### Preprocessing the training dataset"
   ]
  },
  {
   "cell_type": "code",
   "execution_count": 15,
   "metadata": {},
   "outputs": [
    {
     "name": "stdout",
     "output_type": "stream",
     "text": [
      "Found 8000 images belonging to 2 classes.\n"
     ]
    }
   ],
   "source": [
    "# image augmentation\n",
    "train_datagen = ImageDataGenerator(\n",
    "    rescale = 1./255,\n",
    "    shear_range =0.2,\n",
    "    zoom_range = 0.2,\n",
    "    horizontal_flip=True \n",
    ")\n",
    "training_set = train_datagen.flow_from_directory(\n",
    "    'dataset/training_set',\n",
    "    target_size=(64,64),\n",
    "    batch_size= 32,\n",
    "    class_mode='binary' \n",
    ")"
   ]
  },
  {
   "cell_type": "markdown",
   "metadata": {},
   "source": [
    "### Preprocessing the test dataset"
   ]
  },
  {
   "cell_type": "code",
   "execution_count": 16,
   "metadata": {},
   "outputs": [
    {
     "name": "stdout",
     "output_type": "stream",
     "text": [
      "Found 2000 images belonging to 2 classes.\n"
     ]
    }
   ],
   "source": [
    "test_datagen = ImageDataGenerator(\n",
    "    rescale = 1./255\n",
    ")\n",
    "test_set = test_datagen.flow_from_directory(\n",
    "    'dataset/test_set',\n",
    "    target_size = (64,64),\n",
    "    batch_size=32,\n",
    "    class_mode='binary'\n",
    ")"
   ]
  },
  {
   "cell_type": "markdown",
   "metadata": {},
   "source": [
    "#### Building the CNN"
   ]
  },
  {
   "cell_type": "code",
   "execution_count": 17,
   "metadata": {},
   "outputs": [],
   "source": [
    "cnn = tf.keras.models.Sequential()\n",
    "# Adding first convolutional layer\n",
    "cnn.add(tf.keras.layers.Conv2D(filters=32,kernel_size=3,activation='relu',input_shape=[64,64,3]))\n",
    "# Adding a pooling layer\n",
    "cnn.add(tf.keras.layers.MaxPool2D(pool_size=2,strides=2))\n",
    "# Adding a second convolutional layer\n",
    "cnn.add(tf.keras.layers.Conv2D(filters=32,kernel_size=3,activation='relu'))\n",
    "# Adding a second pooling layer\n",
    "cnn.add(tf.keras.layers.MaxPool2D(pool_size=2,strides=2))\n",
    "# Adding a flattening layer to flatten the 2-D matrices into a 1-D vector\n",
    "cnn.add(tf.keras.layers.Flatten())\n",
    "# Adding fully connected ann layers\n",
    "cnn.add(tf.keras.layers.Dense(units=128,activation='relu'))\n",
    "# Adding an output layer\n",
    "cnn.add(tf.keras.layers.Dense(units=1,activation='sigmoid'))"
   ]
  },
  {
   "cell_type": "markdown",
   "metadata": {},
   "source": [
    "#### Training the CNN"
   ]
  },
  {
   "cell_type": "code",
   "execution_count": 18,
   "metadata": {},
   "outputs": [],
   "source": [
    "# compiling the cnn\n",
    "cnn.compile(optimizer='adam',loss='binary_crossentropy',metrics=['accuracy'])"
   ]
  },
  {
   "cell_type": "code",
   "execution_count": 19,
   "metadata": {},
   "outputs": [
    {
     "name": "stdout",
     "output_type": "stream",
     "text": [
      "Epoch 1/25\n",
      "250/250 [==============================] - 138s 535ms/step - loss: 0.6555 - accuracy: 0.6079 - val_loss: 0.5768 - val_accuracy: 0.6995\n",
      "Epoch 2/25\n",
      "250/250 [==============================] - 70s 280ms/step - loss: 0.5836 - accuracy: 0.6891 - val_loss: 0.5761 - val_accuracy: 0.7000\n",
      "Epoch 3/25\n",
      "250/250 [==============================] - 68s 272ms/step - loss: 0.5392 - accuracy: 0.7299 - val_loss: 0.5434 - val_accuracy: 0.7195\n",
      "Epoch 4/25\n",
      "250/250 [==============================] - 73s 293ms/step - loss: 0.5100 - accuracy: 0.7508 - val_loss: 0.5093 - val_accuracy: 0.7510\n",
      "Epoch 5/25\n",
      "250/250 [==============================] - 58s 231ms/step - loss: 0.4959 - accuracy: 0.7588 - val_loss: 0.4996 - val_accuracy: 0.7660\n",
      "Epoch 6/25\n",
      "250/250 [==============================] - 60s 239ms/step - loss: 0.4770 - accuracy: 0.7703 - val_loss: 0.4689 - val_accuracy: 0.7750\n",
      "Epoch 7/25\n",
      "250/250 [==============================] - 68s 273ms/step - loss: 0.4521 - accuracy: 0.7834 - val_loss: 0.4730 - val_accuracy: 0.7835\n",
      "Epoch 8/25\n",
      "250/250 [==============================] - 75s 299ms/step - loss: 0.4411 - accuracy: 0.7934 - val_loss: 0.4590 - val_accuracy: 0.7955\n",
      "Epoch 9/25\n",
      "250/250 [==============================] - 63s 250ms/step - loss: 0.4224 - accuracy: 0.8024 - val_loss: 0.4419 - val_accuracy: 0.7900\n",
      "Epoch 10/25\n",
      "250/250 [==============================] - 59s 238ms/step - loss: 0.4204 - accuracy: 0.8010 - val_loss: 0.4880 - val_accuracy: 0.7630\n",
      "Epoch 11/25\n",
      "250/250 [==============================] - 59s 237ms/step - loss: 0.4053 - accuracy: 0.8169 - val_loss: 0.4744 - val_accuracy: 0.7780\n",
      "Epoch 12/25\n",
      "250/250 [==============================] - 56s 223ms/step - loss: 0.3989 - accuracy: 0.8171 - val_loss: 0.4423 - val_accuracy: 0.7965\n",
      "Epoch 13/25\n",
      "250/250 [==============================] - 66s 266ms/step - loss: 0.3751 - accuracy: 0.8317 - val_loss: 0.4578 - val_accuracy: 0.7985\n",
      "Epoch 14/25\n",
      "250/250 [==============================] - 70s 278ms/step - loss: 0.3687 - accuracy: 0.8344 - val_loss: 0.4456 - val_accuracy: 0.7915\n",
      "Epoch 15/25\n",
      "250/250 [==============================] - 72s 288ms/step - loss: 0.3522 - accuracy: 0.8431 - val_loss: 0.4351 - val_accuracy: 0.7990\n",
      "Epoch 16/25\n",
      "250/250 [==============================] - 63s 253ms/step - loss: 0.3511 - accuracy: 0.8468 - val_loss: 0.4527 - val_accuracy: 0.8010\n",
      "Epoch 17/25\n",
      "250/250 [==============================] - 60s 238ms/step - loss: 0.3306 - accuracy: 0.8526 - val_loss: 0.4488 - val_accuracy: 0.8065\n",
      "Epoch 18/25\n",
      "250/250 [==============================] - 60s 242ms/step - loss: 0.3177 - accuracy: 0.8580 - val_loss: 0.4647 - val_accuracy: 0.8015\n",
      "Epoch 19/25\n",
      "250/250 [==============================] - 59s 237ms/step - loss: 0.3119 - accuracy: 0.8600 - val_loss: 0.5219 - val_accuracy: 0.7755\n",
      "Epoch 20/25\n",
      "250/250 [==============================] - 60s 239ms/step - loss: 0.2950 - accuracy: 0.8692 - val_loss: 0.5904 - val_accuracy: 0.7615\n",
      "Epoch 21/25\n",
      "250/250 [==============================] - 61s 242ms/step - loss: 0.2915 - accuracy: 0.8767 - val_loss: 0.4804 - val_accuracy: 0.7940\n",
      "Epoch 22/25\n",
      "250/250 [==============================] - 65s 258ms/step - loss: 0.2675 - accuracy: 0.8890 - val_loss: 0.4697 - val_accuracy: 0.7985\n",
      "Epoch 23/25\n",
      "250/250 [==============================] - 65s 261ms/step - loss: 0.2579 - accuracy: 0.8891 - val_loss: 0.4951 - val_accuracy: 0.7955\n",
      "Epoch 24/25\n",
      "250/250 [==============================] - 64s 257ms/step - loss: 0.2590 - accuracy: 0.8919 - val_loss: 0.4866 - val_accuracy: 0.8030\n",
      "Epoch 25/25\n",
      "250/250 [==============================] - 61s 242ms/step - loss: 0.2498 - accuracy: 0.8986 - val_loss: 0.4964 - val_accuracy: 0.8050\n"
     ]
    },
    {
     "data": {
      "text/plain": [
       "<keras.callbacks.History at 0x2908768ce20>"
      ]
     },
     "execution_count": 19,
     "metadata": {},
     "output_type": "execute_result"
    }
   ],
   "source": [
    "# training the cnn\n",
    "cnn.fit(x = training_set,validation_data = test_set,epochs = 25)"
   ]
  },
  {
   "cell_type": "markdown",
   "metadata": {},
   "source": [
    "#### Making a single prediction"
   ]
  },
  {
   "cell_type": "code",
   "execution_count": 20,
   "metadata": {},
   "outputs": [
    {
     "name": "stdout",
     "output_type": "stream",
     "text": [
      "{'cats': 0, 'dogs': 1}\n",
      "dog\n"
     ]
    }
   ],
   "source": [
    "import numpy as np\n",
    "from keras.preprocessing import image\n",
    "# load the image\n",
    "test_image = image.load_img('dataset/single_prediction/cat_or_dog_1.jpg',target_size=(64,64))\n",
    "# convert the pil format to 2D array\n",
    "test_image = image.img_to_array(test_image)\n",
    "test_image = np.expand_dims(test_image,axis=0)\n",
    "result = cnn.predict(test_image/255.0)\n",
    "print(training_set.class_indices)\n",
    "prediction = 'cat'\n",
    "if result[0][0] > 0.5:\n",
    "    prediction = 'dog'\n",
    "print(prediction)"
   ]
  },
  {
   "cell_type": "code",
   "execution_count": 22,
   "metadata": {},
   "outputs": [
    {
     "name": "stdout",
     "output_type": "stream",
     "text": [
      "cat\n"
     ]
    }
   ],
   "source": [
    "test_image = image.load_img('dataset/single_prediction/cat_or_dog_2.jpg',target_size=(64,64))\n",
    "# convert the pil format to 2D array\n",
    "test_image = image.img_to_array(test_image)\n",
    "test_image = np.expand_dims(test_image,axis=0)\n",
    "result = cnn.predict(test_image/255.0)\n",
    "prediction = 'cat'\n",
    "if result[0][0] > 0.5:\n",
    "    prediction = 'dog'\n",
    "print(prediction)"
   ]
  },
  {
   "cell_type": "code",
   "execution_count": 24,
   "metadata": {},
   "outputs": [
    {
     "name": "stdout",
     "output_type": "stream",
     "text": [
      "dog\n"
     ]
    }
   ],
   "source": [
    "test_image = image.load_img('dataset/single_prediction/cat_or_dog_3.jpg',target_size=(64,64))\n",
    "# convert the pil format to 2D array\n",
    "test_image = image.img_to_array(test_image)\n",
    "test_image = np.expand_dims(test_image,axis=0)\n",
    "result = cnn.predict(test_image/255.0)\n",
    "prediction = 'cat'\n",
    "if result[0][0] > 0.5:\n",
    "    prediction = 'dog'\n",
    "print(prediction)"
   ]
  },
  {
   "cell_type": "code",
   "execution_count": 25,
   "metadata": {},
   "outputs": [
    {
     "name": "stdout",
     "output_type": "stream",
     "text": [
      "cat\n"
     ]
    }
   ],
   "source": [
    "test_image = image.load_img('dataset/single_prediction/cat_or_dog_4.jpg',target_size=(64,64))\n",
    "# convert the pil format to 2D array\n",
    "test_image = image.img_to_array(test_image)\n",
    "test_image = np.expand_dims(test_image,axis=0)\n",
    "result = cnn.predict(test_image/255.0)\n",
    "prediction = 'cat'\n",
    "if result[0][0] > 0.5:\n",
    "    prediction = 'dog'\n",
    "print(prediction)"
   ]
  }
 ],
 "metadata": {
  "interpreter": {
   "hash": "acd80a346a21103701aea104b3122a4c1b4265913b6808a7645293b85518db46"
  },
  "kernelspec": {
   "display_name": "Python 3.9.7 64-bit ('base': conda)",
   "language": "python",
   "name": "python3"
  },
  "language_info": {
   "codemirror_mode": {
    "name": "ipython",
    "version": 3
   },
   "file_extension": ".py",
   "mimetype": "text/x-python",
   "name": "python",
   "nbconvert_exporter": "python",
   "pygments_lexer": "ipython3",
   "version": "3.9.7"
  },
  "orig_nbformat": 4
 },
 "nbformat": 4,
 "nbformat_minor": 2
}
